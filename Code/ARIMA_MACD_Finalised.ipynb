{
 "cells": [
  {
   "cell_type": "markdown",
   "id": "65635c54-b352-4ec2-83b6-08b149c4a1bb",
   "metadata": {},
   "source": [
    "# ARIMA TIME SERIES - PRICE PREDICTION"
   ]
  },
  {
   "cell_type": "code",
   "execution_count": 1,
   "id": "36aaed1c-c951-4db7-a3de-d17678f5e825",
   "metadata": {},
   "outputs": [],
   "source": [
    "# Import libraries and dependencies\n",
    "import numpy as np\n",
    "import pandas as pd\n",
    "import matplotlib.pyplot as plt\n",
    "from itertools import combinations_with_replacement\n",
    "%matplotlib inline\n",
    "\n",
    "# Timeseries packages\n",
    "from statsmodels.graphics.tsaplots import plot_acf, plot_pacf\n",
    "from statsmodels.tsa.stattools import adfuller\n",
    "from statsmodels.tsa.arima_model import ARIMA\n",
    "\n",
    "# MACD packages\n",
    "import yfinance as yf\n",
    "import vectorbt as vbt\n",
    "\n",
    "import warnings\n",
    "warnings.filterwarnings('ignore')"
   ]
  },
  {
   "cell_type": "markdown",
   "id": "219ccb9a-77dd-4442-8271-ccff97b055b4",
   "metadata": {},
   "source": [
    "##"
   ]
  },
  {
   "cell_type": "markdown",
   "id": "b5e4a6e3-fcbb-4482-8a1d-632b1c511e55",
   "metadata": {},
   "source": [
    "# Data collection and cleaning"
   ]
  },
  {
   "cell_type": "code",
   "execution_count": 2,
   "id": "1de803ac-ab1f-462d-a7ef-2b69c9982dd9",
   "metadata": {},
   "outputs": [
    {
     "name": "stdout",
     "output_type": "stream",
     "text": [
      "[*********************100%***********************]  1 of 1 completed\n"
     ]
    },
    {
     "data": {
      "text/html": [
       "<div>\n",
       "<style scoped>\n",
       "    .dataframe tbody tr th:only-of-type {\n",
       "        vertical-align: middle;\n",
       "    }\n",
       "\n",
       "    .dataframe tbody tr th {\n",
       "        vertical-align: top;\n",
       "    }\n",
       "\n",
       "    .dataframe thead th {\n",
       "        text-align: right;\n",
       "    }\n",
       "</style>\n",
       "<table border=\"1\" class=\"dataframe\">\n",
       "  <thead>\n",
       "    <tr style=\"text-align: right;\">\n",
       "      <th></th>\n",
       "      <th>Open</th>\n",
       "      <th>High</th>\n",
       "      <th>Low</th>\n",
       "      <th>Close</th>\n",
       "      <th>Adj Close</th>\n",
       "      <th>Volume</th>\n",
       "    </tr>\n",
       "    <tr>\n",
       "      <th>Date</th>\n",
       "      <th></th>\n",
       "      <th></th>\n",
       "      <th></th>\n",
       "      <th></th>\n",
       "      <th></th>\n",
       "      <th></th>\n",
       "    </tr>\n",
       "  </thead>\n",
       "  <tbody>\n",
       "    <tr>\n",
       "      <th>2021-08-24</th>\n",
       "      <td>710.679993</td>\n",
       "      <td>715.219971</td>\n",
       "      <td>702.640015</td>\n",
       "      <td>708.489990</td>\n",
       "      <td>708.489990</td>\n",
       "      <td>13083100</td>\n",
       "    </tr>\n",
       "    <tr>\n",
       "      <th>2021-08-25</th>\n",
       "      <td>707.030029</td>\n",
       "      <td>716.969971</td>\n",
       "      <td>704.000000</td>\n",
       "      <td>711.200012</td>\n",
       "      <td>711.200012</td>\n",
       "      <td>12645600</td>\n",
       "    </tr>\n",
       "    <tr>\n",
       "      <th>2021-08-26</th>\n",
       "      <td>708.309998</td>\n",
       "      <td>715.400024</td>\n",
       "      <td>697.619995</td>\n",
       "      <td>701.159973</td>\n",
       "      <td>701.159973</td>\n",
       "      <td>13214300</td>\n",
       "    </tr>\n",
       "    <tr>\n",
       "      <th>2021-08-27</th>\n",
       "      <td>705.000000</td>\n",
       "      <td>715.000000</td>\n",
       "      <td>702.099976</td>\n",
       "      <td>711.919983</td>\n",
       "      <td>711.919983</td>\n",
       "      <td>13762100</td>\n",
       "    </tr>\n",
       "    <tr>\n",
       "      <th>2021-08-30</th>\n",
       "      <td>714.715027</td>\n",
       "      <td>731.000000</td>\n",
       "      <td>712.729980</td>\n",
       "      <td>730.909973</td>\n",
       "      <td>730.909973</td>\n",
       "      <td>18149642</td>\n",
       "    </tr>\n",
       "  </tbody>\n",
       "</table>\n",
       "</div>"
      ],
      "text/plain": [
       "                  Open        High         Low       Close   Adj Close  \\\n",
       "Date                                                                     \n",
       "2021-08-24  710.679993  715.219971  702.640015  708.489990  708.489990   \n",
       "2021-08-25  707.030029  716.969971  704.000000  711.200012  711.200012   \n",
       "2021-08-26  708.309998  715.400024  697.619995  701.159973  701.159973   \n",
       "2021-08-27  705.000000  715.000000  702.099976  711.919983  711.919983   \n",
       "2021-08-30  714.715027  731.000000  712.729980  730.909973  730.909973   \n",
       "\n",
       "              Volume  \n",
       "Date                  \n",
       "2021-08-24  13083100  \n",
       "2021-08-25  12645600  \n",
       "2021-08-26  13214300  \n",
       "2021-08-27  13762100  \n",
       "2021-08-30  18149642  "
      ]
     },
     "execution_count": 2,
     "metadata": {},
     "output_type": "execute_result"
    }
   ],
   "source": [
    "# Names of intersted stocks\n",
    "stock_name = ['TSLA']\n",
    "\n",
    "tickers = yf.download(tickers = stock_name,\n",
    "                      start = \"2020-01-01\", \n",
    "                      period=\"max\", \n",
    "                      interval = \"1d\")\n",
    "\n",
    "tickers.tail()"
   ]
  },
  {
   "cell_type": "code",
   "execution_count": 3,
   "id": "ad4adc73-f11e-479c-9f81-809b20114b07",
   "metadata": {},
   "outputs": [
    {
     "data": {
      "text/html": [
       "<div>\n",
       "<style scoped>\n",
       "    .dataframe tbody tr th:only-of-type {\n",
       "        vertical-align: middle;\n",
       "    }\n",
       "\n",
       "    .dataframe tbody tr th {\n",
       "        vertical-align: top;\n",
       "    }\n",
       "\n",
       "    .dataframe thead th {\n",
       "        text-align: right;\n",
       "    }\n",
       "</style>\n",
       "<table border=\"1\" class=\"dataframe\">\n",
       "  <thead>\n",
       "    <tr style=\"text-align: right;\">\n",
       "      <th></th>\n",
       "      <th>Open</th>\n",
       "      <th>High</th>\n",
       "      <th>Low</th>\n",
       "      <th>Close</th>\n",
       "      <th>Adj Close</th>\n",
       "      <th>Volume</th>\n",
       "    </tr>\n",
       "    <tr>\n",
       "      <th>Date</th>\n",
       "      <th></th>\n",
       "      <th></th>\n",
       "      <th></th>\n",
       "      <th></th>\n",
       "      <th></th>\n",
       "      <th></th>\n",
       "    </tr>\n",
       "  </thead>\n",
       "  <tbody>\n",
       "    <tr>\n",
       "      <th>2019-12-31</th>\n",
       "      <td>81.000000</td>\n",
       "      <td>84.258003</td>\n",
       "      <td>80.416000</td>\n",
       "      <td>83.666000</td>\n",
       "      <td>83.666000</td>\n",
       "      <td>51428500</td>\n",
       "    </tr>\n",
       "    <tr>\n",
       "      <th>2020-01-02</th>\n",
       "      <td>84.900002</td>\n",
       "      <td>86.139999</td>\n",
       "      <td>84.342003</td>\n",
       "      <td>86.052002</td>\n",
       "      <td>86.052002</td>\n",
       "      <td>47660500</td>\n",
       "    </tr>\n",
       "    <tr>\n",
       "      <th>2020-01-03</th>\n",
       "      <td>88.099998</td>\n",
       "      <td>90.800003</td>\n",
       "      <td>87.384003</td>\n",
       "      <td>88.601997</td>\n",
       "      <td>88.601997</td>\n",
       "      <td>88892500</td>\n",
       "    </tr>\n",
       "    <tr>\n",
       "      <th>2020-01-06</th>\n",
       "      <td>88.094002</td>\n",
       "      <td>90.311996</td>\n",
       "      <td>88.000000</td>\n",
       "      <td>90.307999</td>\n",
       "      <td>90.307999</td>\n",
       "      <td>50665000</td>\n",
       "    </tr>\n",
       "    <tr>\n",
       "      <th>2020-01-07</th>\n",
       "      <td>92.279999</td>\n",
       "      <td>94.325996</td>\n",
       "      <td>90.671997</td>\n",
       "      <td>93.811996</td>\n",
       "      <td>93.811996</td>\n",
       "      <td>89410500</td>\n",
       "    </tr>\n",
       "  </tbody>\n",
       "</table>\n",
       "</div>"
      ],
      "text/plain": [
       "                 Open       High        Low      Close  Adj Close    Volume\n",
       "Date                                                                       \n",
       "2019-12-31  81.000000  84.258003  80.416000  83.666000  83.666000  51428500\n",
       "2020-01-02  84.900002  86.139999  84.342003  86.052002  86.052002  47660500\n",
       "2020-01-03  88.099998  90.800003  87.384003  88.601997  88.601997  88892500\n",
       "2020-01-06  88.094002  90.311996  88.000000  90.307999  90.307999  50665000\n",
       "2020-01-07  92.279999  94.325996  90.671997  93.811996  93.811996  89410500"
      ]
     },
     "execution_count": 3,
     "metadata": {},
     "output_type": "execute_result"
    }
   ],
   "source": [
    "# Drop duplicates\n",
    "tickers.drop_duplicates(inplace=False)\n",
    "\n",
    "# Drop NA and infinite values\n",
    "tickers = tickers.replace(-np.inf, np.nan).dropna()\n",
    "\n",
    "tickers.head()"
   ]
  },
  {
   "cell_type": "code",
   "execution_count": 4,
   "id": "fcb5d9f7-6d60-4f0b-982b-94e5f42aa1bf",
   "metadata": {},
   "outputs": [
    {
     "data": {
      "text/plain": [
       "Open         0\n",
       "High         0\n",
       "Low          0\n",
       "Close        0\n",
       "Adj Close    0\n",
       "Volume       0\n",
       "dtype: int64"
      ]
     },
     "execution_count": 4,
     "metadata": {},
     "output_type": "execute_result"
    }
   ],
   "source": [
    "# Count nulls/checking final df\n",
    "tickers.isnull().sum()"
   ]
  },
  {
   "cell_type": "markdown",
   "id": "ef593589-fac3-4791-a35b-02765f7a69aa",
   "metadata": {},
   "source": [
    "##"
   ]
  },
  {
   "cell_type": "markdown",
   "id": "79bf9da7-bd07-4ddf-b951-add4d8f2002f",
   "metadata": {},
   "source": [
    "# Autocorrelation and Partial Autocorrelation Analysis"
   ]
  },
  {
   "cell_type": "code",
   "execution_count": 5,
   "id": "b30ce601-e95f-401d-a6fa-de12f3c1600d",
   "metadata": {},
   "outputs": [
    {
     "data": {
      "image/png": "[encoded data removed]",
      "text/plain": [
       "<Figure size 720x360 with 1 Axes>"
      ]
     },
     "metadata": {
      "needs_background": "light"
     },
     "output_type": "display_data"
    }
   ],
   "source": [
    "# Plot ACF\n",
    "plt.rcParams[\"figure.figsize\"] = [10,5]\n",
    "plot_acf(tickers.Close, lags=20);"
   ]
  },
  {
   "cell_type": "code",
   "execution_count": 6,
   "id": "b7710ae5-7f2f-4cc7-b36e-c9fb6a9d95ff",
   "metadata": {},
   "outputs": [
    {
     "data": {
      "image/png": "[encoded data removed]",
      "text/plain": [
       "<Figure size 720x360 with 1 Axes>"
      ]
     },
     "metadata": {
      "needs_background": "light"
     },
     "output_type": "display_data"
    }
   ],
   "source": [
    "# Plot PACF\n",
    "plt.rcParams[\"figure.figsize\"] = [10,5]\n",
    "plot_pacf(tickers.Close, zero=False, lags=20);"
   ]
  },
  {
   "cell_type": "code",
   "execution_count": 7,
   "id": "f2dc7cae-f517-449a-8b9d-a6a0b83b7ae5",
   "metadata": {},
   "outputs": [
    {
     "data": {
      "text/plain": [
       "(-1.069180140048499,\n",
       " 0.7272047572262771,\n",
       " 1,\n",
       " 418,\n",
       " {'1%': -3.4460914174990296,\n",
       "  '5%': -2.868479374038333,\n",
       "  '10%': -2.570466459559076},\n",
       " 3541.773843532381)"
      ]
     },
     "execution_count": 7,
     "metadata": {},
     "output_type": "execute_result"
    }
   ],
   "source": [
    "# Augmented Dickey-Fuller Test (ADF) Statistical Test for stationarity (https://www.hackdeploy.com/augmented-dickey-fuller-test-in-python/)\n",
    "adfuller(tickers.Close)"
   ]
  },
  {
   "cell_type": "markdown",
   "id": "9716fce8-c75e-4859-8dbe-9a9cba2cfa99",
   "metadata": {},
   "source": [
    "##"
   ]
  },
  {
   "cell_type": "markdown",
   "id": "643df81a-8666-42e6-a7e6-963db5070948",
   "metadata": {},
   "source": [
    "## Create loop to determine best P I Q values for ARIMA"
   ]
  },
  {
   "cell_type": "code",
   "execution_count": 8,
   "id": "3731c8ba-9f50-4ac9-b272-76de23709402",
   "metadata": {},
   "outputs": [
    {
     "name": "stdout",
     "output_type": "stream",
     "text": [
      "[(1, 1, 1), (1, 1, 1), (1, 1, 1), (1, 1, 1), (1, 1, 1), (1, 1, 1), (1, 1, 1), (1, 1, 1), (1, 1, 1), (1, 1, 1)]\n"
     ]
    }
   ],
   "source": [
    "# Get all combinations of [1, 2, 1]\n",
    "comb1 = combinations_with_replacement([1, 1, 1], 3)\n",
    "\n",
    "variables_list1 = []\n",
    "\n",
    "# Print the obtained combinations\n",
    "for i in list(comb1):\n",
    "    if i[1] == 1:            \n",
    "        variables_list1.append(i)\n",
    "    \n",
    "print(variables_list1)"
   ]
  },
  {
   "cell_type": "code",
   "execution_count": 9,
   "id": "a8ada304-0235-4761-890f-6219e8b078e6",
   "metadata": {},
   "outputs": [
    {
     "name": "stdout",
     "output_type": "stream",
     "text": [
      "[(1, 1, 1), (1, 1, 1), (1, 1, 2), (1, 1, 1), (1, 1, 2), (1, 1, 1), (1, 1, 2)]\n"
     ]
    }
   ],
   "source": [
    "# Get all combinations of [1, 1, 2] \n",
    "comb2 = combinations_with_replacement([1, 1, 2], 3)\n",
    "\n",
    "variables_list2 = []\n",
    "\n",
    "# Print the obtained combinations\n",
    "for i in list(comb2):\n",
    "    if i[1] == 1:            \n",
    "        variables_list2.append(i)\n",
    "    \n",
    "print(variables_list2)"
   ]
  },
  {
   "cell_type": "code",
   "execution_count": 10,
   "id": "5ffd525f-e602-4ecd-aa16-7a88cbcf99ab",
   "metadata": {},
   "outputs": [
    {
     "name": "stdout",
     "output_type": "stream",
     "text": [
      "[(1, 1, 1), (1, 1, 1), (1, 1, 3), (1, 1, 1), (1, 1, 3), (1, 1, 1), (1, 1, 3)]\n"
     ]
    }
   ],
   "source": [
    "# Get all combinations of [1, 1, 3] \n",
    "comb3 = combinations_with_replacement([1, 1, 3], 3)\n",
    "\n",
    "variables_list3 = []\n",
    "\n",
    "# Print the obtained combinations\n",
    "for i in list(comb3):\n",
    "    if i[1] == 1:            \n",
    "        variables_list3.append(i)\n",
    "    \n",
    "print(variables_list3)"
   ]
  },
  {
   "cell_type": "code",
   "execution_count": 11,
   "id": "b3a79629-664c-4b91-b59d-9c7eb0e42bf0",
   "metadata": {},
   "outputs": [
    {
     "name": "stdout",
     "output_type": "stream",
     "text": [
      "[(2, 1, 1), (2, 1, 3), (1, 1, 1), (1, 1, 3)]\n"
     ]
    }
   ],
   "source": [
    "# Get all combinations of [2, 1, 3]\n",
    "comb4 = combinations_with_replacement([2, 1, 3], 3)\n",
    "\n",
    "variables_list4 = []\n",
    "\n",
    "# Print the obtained combinations\n",
    "for i in list(comb4):\n",
    "    if i[1] == 1:            \n",
    "        variables_list4.append(i)\n",
    "    \n",
    "print(variables_list4)"
   ]
  },
  {
   "cell_type": "code",
   "execution_count": 12,
   "id": "279e13b3-4d90-407e-8045-7db1129ab9c3",
   "metadata": {},
   "outputs": [
    {
     "name": "stdout",
     "output_type": "stream",
     "text": [
      "[(1, 1, 1), (1, 1, 1), (1, 1, 1), (1, 1, 1), (1, 1, 1), (1, 1, 1), (1, 1, 1), (1, 1, 1), (1, 1, 1), (1, 1, 1), (1, 1, 1), (1, 1, 1), (1, 1, 2), (1, 1, 1), (1, 1, 2), (1, 1, 1), (1, 1, 2), (1, 1, 1), (1, 1, 1), (1, 1, 3), (1, 1, 1), (1, 1, 3), (1, 1, 1), (1, 1, 3), (2, 1, 1), (2, 1, 3), (1, 1, 1), (1, 1, 3)]\n"
     ]
    }
   ],
   "source": [
    "variables_list = variables_list1 + variables_list2 + variables_list3 + variables_list4\n",
    "\n",
    "print(variables_list)"
   ]
  },
  {
   "cell_type": "code",
   "execution_count": 13,
   "id": "e07cb6c1-3b5a-404f-abc7-153a9336f234",
   "metadata": {},
   "outputs": [],
   "source": [
    "results_aic = []\n",
    "results_bic = []\n",
    "\n",
    "for combination in variables_list:\n",
    "    model = ARIMA(tickers['Close'], \n",
    "                  order=combination)\n",
    "    \n",
    "    results = model.fit()\n",
    "    \n",
    "    results_aic.append(results.aic)\n",
    "    results_bic.append(results.bic)\n",
    "    \n",
    "df = pd.DataFrame({'aic':results_aic,\n",
    "                   'bic':results_bic},\n",
    "                  index=variables_list).sort_values(by='aic')"
   ]
  },
  {
   "cell_type": "code",
   "execution_count": 14,
   "id": "de53d36c-009e-42bc-8fc7-0a94ba6d3822",
   "metadata": {},
   "outputs": [
    {
     "data": {
      "text/html": [
       "<div>\n",
       "<style scoped>\n",
       "    .dataframe tbody tr th:only-of-type {\n",
       "        vertical-align: middle;\n",
       "    }\n",
       "\n",
       "    .dataframe tbody tr th {\n",
       "        vertical-align: top;\n",
       "    }\n",
       "\n",
       "    .dataframe thead th {\n",
       "        text-align: right;\n",
       "    }\n",
       "</style>\n",
       "<table border=\"1\" class=\"dataframe\">\n",
       "  <thead>\n",
       "    <tr style=\"text-align: right;\">\n",
       "      <th></th>\n",
       "      <th>aic</th>\n",
       "      <th>bic</th>\n",
       "    </tr>\n",
       "  </thead>\n",
       "  <tbody>\n",
       "    <tr>\n",
       "      <th>(1, 1, 3)</th>\n",
       "      <td>3687.531214</td>\n",
       "      <td>3711.758440</td>\n",
       "    </tr>\n",
       "    <tr>\n",
       "      <th>(1, 1, 3)</th>\n",
       "      <td>3687.531214</td>\n",
       "      <td>3711.758440</td>\n",
       "    </tr>\n",
       "    <tr>\n",
       "      <th>(1, 1, 3)</th>\n",
       "      <td>3687.531214</td>\n",
       "      <td>3711.758440</td>\n",
       "    </tr>\n",
       "    <tr>\n",
       "      <th>(1, 1, 3)</th>\n",
       "      <td>3687.531214</td>\n",
       "      <td>3711.758440</td>\n",
       "    </tr>\n",
       "    <tr>\n",
       "      <th>(1, 1, 2)</th>\n",
       "      <td>3687.384682</td>\n",
       "      <td>3707.574037</td>\n",
       "    </tr>\n",
       "  </tbody>\n",
       "</table>\n",
       "</div>"
      ],
      "text/plain": [
       "                   aic          bic\n",
       "(1, 1, 3)  3687.531214  3711.758440\n",
       "(1, 1, 3)  3687.531214  3711.758440\n",
       "(1, 1, 3)  3687.531214  3711.758440\n",
       "(1, 1, 3)  3687.531214  3711.758440\n",
       "(1, 1, 2)  3687.384682  3707.574037"
      ]
     },
     "execution_count": 14,
     "metadata": {},
     "output_type": "execute_result"
    }
   ],
   "source": [
    "aic_df_sorted = df.sort_values(by=['aic'], ascending=False)\n",
    "\n",
    "aic_df_sorted.head()"
   ]
  },
  {
   "cell_type": "code",
   "execution_count": 15,
   "id": "b1b7dae6-c529-4c6d-ac46-8642a5d0825c",
   "metadata": {},
   "outputs": [
    {
     "data": {
      "text/html": [
       "<div>\n",
       "<style scoped>\n",
       "    .dataframe tbody tr th:only-of-type {\n",
       "        vertical-align: middle;\n",
       "    }\n",
       "\n",
       "    .dataframe tbody tr th {\n",
       "        vertical-align: top;\n",
       "    }\n",
       "\n",
       "    .dataframe thead th {\n",
       "        text-align: right;\n",
       "    }\n",
       "</style>\n",
       "<table border=\"1\" class=\"dataframe\">\n",
       "  <thead>\n",
       "    <tr style=\"text-align: right;\">\n",
       "      <th></th>\n",
       "      <th>aic</th>\n",
       "      <th>bic</th>\n",
       "    </tr>\n",
       "  </thead>\n",
       "  <tbody>\n",
       "    <tr>\n",
       "      <th>(2, 1, 3)</th>\n",
       "      <td>3686.716555</td>\n",
       "      <td>3714.981651</td>\n",
       "    </tr>\n",
       "    <tr>\n",
       "      <th>(1, 1, 3)</th>\n",
       "      <td>3687.531214</td>\n",
       "      <td>3711.758440</td>\n",
       "    </tr>\n",
       "    <tr>\n",
       "      <th>(1, 1, 3)</th>\n",
       "      <td>3687.531214</td>\n",
       "      <td>3711.758440</td>\n",
       "    </tr>\n",
       "    <tr>\n",
       "      <th>(1, 1, 3)</th>\n",
       "      <td>3687.531214</td>\n",
       "      <td>3711.758440</td>\n",
       "    </tr>\n",
       "    <tr>\n",
       "      <th>(1, 1, 3)</th>\n",
       "      <td>3687.531214</td>\n",
       "      <td>3711.758440</td>\n",
       "    </tr>\n",
       "  </tbody>\n",
       "</table>\n",
       "</div>"
      ],
      "text/plain": [
       "                   aic          bic\n",
       "(2, 1, 3)  3686.716555  3714.981651\n",
       "(1, 1, 3)  3687.531214  3711.758440\n",
       "(1, 1, 3)  3687.531214  3711.758440\n",
       "(1, 1, 3)  3687.531214  3711.758440\n",
       "(1, 1, 3)  3687.531214  3711.758440"
      ]
     },
     "execution_count": 15,
     "metadata": {},
     "output_type": "execute_result"
    }
   ],
   "source": [
    "bic_df_sorted = df.sort_values(by=['bic'], ascending=False)\n",
    "\n",
    "bic_df_sorted.head()"
   ]
  },
  {
   "cell_type": "code",
   "execution_count": 16,
   "id": "0fe31639-67f4-4266-9255-6f6511f56083",
   "metadata": {},
   "outputs": [
    {
     "data": {
      "text/html": [
       "<table class=\"simpletable\">\n",
       "<caption>ARIMA Model Results</caption>\n",
       "<tr>\n",
       "  <th>Dep. Variable:</th>      <td>D.Close</td>     <th>  No. Observations:  </th>    <td>419</td>   \n",
       "</tr>\n",
       "<tr>\n",
       "  <th>Model:</th>          <td>ARIMA(1, 1, 3)</td>  <th>  Log Likelihood     </th> <td>-1837.766</td>\n",
       "</tr>\n",
       "<tr>\n",
       "  <th>Method:</th>             <td>css-mle</td>     <th>  S.D. of innovations</th>  <td>19.436</td>  \n",
       "</tr>\n",
       "<tr>\n",
       "  <th>Date:</th>          <td>Tue, 31 Aug 2021</td> <th>  AIC                </th> <td>3687.531</td> \n",
       "</tr>\n",
       "<tr>\n",
       "  <th>Time:</th>              <td>07:10:35</td>     <th>  BIC                </th> <td>3711.758</td> \n",
       "</tr>\n",
       "<tr>\n",
       "  <th>Sample:</th>                <td>1</td>        <th>  HQIC               </th> <td>3697.108</td> \n",
       "</tr>\n",
       "<tr>\n",
       "  <th></th>                       <td> </td>        <th>                     </th>     <td> </td>    \n",
       "</tr>\n",
       "</table>\n",
       "<table class=\"simpletable\">\n",
       "<tr>\n",
       "        <td></td>           <th>coef</th>     <th>std err</th>      <th>z</th>      <th>P>|z|</th>  <th>[0.025</th>    <th>0.975]</th>  \n",
       "</tr>\n",
       "<tr>\n",
       "  <th>const</th>         <td>    1.5436</td> <td>    0.940</td> <td>    1.642</td> <td> 0.101</td> <td>   -0.298</td> <td>    3.386</td>\n",
       "</tr>\n",
       "<tr>\n",
       "  <th>ar.L1.D.Close</th> <td>    0.0035</td> <td>    0.331</td> <td>    0.011</td> <td> 0.992</td> <td>   -0.646</td> <td>    0.653</td>\n",
       "</tr>\n",
       "<tr>\n",
       "  <th>ma.L1.D.Close</th> <td>   -0.0816</td> <td>    0.328</td> <td>   -0.249</td> <td> 0.803</td> <td>   -0.724</td> <td>    0.560</td>\n",
       "</tr>\n",
       "<tr>\n",
       "  <th>ma.L2.D.Close</th> <td>   -0.0027</td> <td>    0.055</td> <td>   -0.048</td> <td> 0.962</td> <td>   -0.111</td> <td>    0.106</td>\n",
       "</tr>\n",
       "<tr>\n",
       "  <th>ma.L3.D.Close</th> <td>    0.0709</td> <td>    0.049</td> <td>    1.460</td> <td> 0.144</td> <td>   -0.024</td> <td>    0.166</td>\n",
       "</tr>\n",
       "</table>\n",
       "<table class=\"simpletable\">\n",
       "<caption>Roots</caption>\n",
       "<tr>\n",
       "    <td></td>   <th>            Real</th>  <th>         Imaginary</th> <th>         Modulus</th>  <th>        Frequency</th>\n",
       "</tr>\n",
       "<tr>\n",
       "  <th>AR.1</th> <td>         287.1253</td> <td>          +0.0000j</td> <td>         287.1253</td> <td>           0.0000</td>\n",
       "</tr>\n",
       "<tr>\n",
       "  <th>MA.1</th> <td>           1.2995</td> <td>          -1.9541j</td> <td>           2.3467</td> <td>          -0.1566</td>\n",
       "</tr>\n",
       "<tr>\n",
       "  <th>MA.2</th> <td>           1.2995</td> <td>          +1.9541j</td> <td>           2.3467</td> <td>           0.1566</td>\n",
       "</tr>\n",
       "<tr>\n",
       "  <th>MA.3</th> <td>          -2.5617</td> <td>          -0.0000j</td> <td>           2.5617</td> <td>          -0.5000</td>\n",
       "</tr>\n",
       "</table>"
      ],
      "text/plain": [
       "<class 'statsmodels.iolib.summary.Summary'>\n",
       "\"\"\"\n",
       "                             ARIMA Model Results                              \n",
       "==============================================================================\n",
       "Dep. Variable:                D.Close   No. Observations:                  419\n",
       "Model:                 ARIMA(1, 1, 3)   Log Likelihood               -1837.766\n",
       "Method:                       css-mle   S.D. of innovations             19.436\n",
       "Date:                Tue, 31 Aug 2021   AIC                           3687.531\n",
       "Time:                        07:10:35   BIC                           3711.758\n",
       "Sample:                             1   HQIC                          3697.108\n",
       "                                                                              \n",
       "=================================================================================\n",
       "                    coef    std err          z      P>|z|      [0.025      0.975]\n",
       "---------------------------------------------------------------------------------\n",
       "const             1.5436      0.940      1.642      0.101      -0.298       3.386\n",
       "ar.L1.D.Close     0.0035      0.331      0.011      0.992      -0.646       0.653\n",
       "ma.L1.D.Close    -0.0816      0.328     -0.249      0.803      -0.724       0.560\n",
       "ma.L2.D.Close    -0.0027      0.055     -0.048      0.962      -0.111       0.106\n",
       "ma.L3.D.Close     0.0709      0.049      1.460      0.144      -0.024       0.166\n",
       "                                    Roots                                    \n",
       "=============================================================================\n",
       "                  Real          Imaginary           Modulus         Frequency\n",
       "-----------------------------------------------------------------------------\n",
       "AR.1          287.1253           +0.0000j          287.1253            0.0000\n",
       "MA.1            1.2995           -1.9541j            2.3467           -0.1566\n",
       "MA.2            1.2995           +1.9541j            2.3467            0.1566\n",
       "MA.3           -2.5617           -0.0000j            2.5617           -0.5000\n",
       "-----------------------------------------------------------------------------\n",
       "\"\"\""
      ]
     },
     "execution_count": 16,
     "metadata": {},
     "output_type": "execute_result"
    }
   ],
   "source": [
    "# Rerun ARIMA using optimised AIC (https://stats.stackexchange.com/questions/577/is-there-any-reason-to-prefer-the-aic-or-bic-over-the-other)\n",
    "model_refined = ARIMA(tickers['Close'],\n",
    "                      order=aic_df_sorted.index[0])\n",
    "\n",
    "results_refined = model_refined.fit()\n",
    "\n",
    "results_refined.summary()"
   ]
  },
  {
   "cell_type": "code",
   "execution_count": 17,
   "id": "fdae5abe-d70f-4255-9667-7e5850042664",
   "metadata": {},
   "outputs": [
    {
     "data": {
      "text/html": [
       "<div>\n",
       "<style scoped>\n",
       "    .dataframe tbody tr th:only-of-type {\n",
       "        vertical-align: middle;\n",
       "    }\n",
       "\n",
       "    .dataframe tbody tr th {\n",
       "        vertical-align: top;\n",
       "    }\n",
       "\n",
       "    .dataframe thead th {\n",
       "        text-align: right;\n",
       "    }\n",
       "</style>\n",
       "<table border=\"1\" class=\"dataframe\">\n",
       "  <thead>\n",
       "    <tr style=\"text-align: right;\">\n",
       "      <th></th>\n",
       "      <th>0</th>\n",
       "    </tr>\n",
       "  </thead>\n",
       "  <tbody>\n",
       "    <tr>\n",
       "      <th>0</th>\n",
       "      <td>730.096459</td>\n",
       "    </tr>\n",
       "    <tr>\n",
       "      <th>1</th>\n",
       "      <td>732.147310</td>\n",
       "    </tr>\n",
       "    <tr>\n",
       "      <th>2</th>\n",
       "      <td>734.965125</td>\n",
       "    </tr>\n",
       "    <tr>\n",
       "      <th>3</th>\n",
       "      <td>736.513168</td>\n",
       "    </tr>\n",
       "    <tr>\n",
       "      <th>4</th>\n",
       "      <td>738.056788</td>\n",
       "    </tr>\n",
       "  </tbody>\n",
       "</table>\n",
       "</div>"
      ],
      "text/plain": [
       "            0\n",
       "0  730.096459\n",
       "1  732.147310\n",
       "2  734.965125\n",
       "3  736.513168\n",
       "4  738.056788"
      ]
     },
     "metadata": {},
     "output_type": "display_data"
    },
    {
     "data": {
      "text/plain": [
       "<AxesSubplot:title={'center':'5 Days Forecast'}>"
      ]
     },
     "execution_count": 17,
     "metadata": {},
     "output_type": "execute_result"
    },
    {
     "data": {
      "image/png": "[encoded data removed]",
      "text/plain": [
       "<Figure size 720x360 with 1 Axes>"
      ]
     },
     "metadata": {
      "needs_background": "light"
     },
     "output_type": "display_data"
    }
   ],
   "source": [
    "# Forecast close prices\n",
    "predicted_df = pd.DataFrame(results_refined.forecast(steps=5)[0])\n",
    "\n",
    "display(predicted_df.head())\n",
    "\n",
    "plt.rcParams[\"figure.figsize\"] = [10,5]\n",
    "\n",
    "predicted_df.plot(title=\"5 Days Forecast\")"
   ]
  },
  {
   "cell_type": "code",
   "execution_count": 18,
   "id": "f069b272-0ecd-4e84-ac56-96d97ddef8e4",
   "metadata": {},
   "outputs": [
    {
     "data": {
      "text/plain": [
       "Date\n",
       "2019-12-31    83.666000\n",
       "2020-01-02    86.052002\n",
       "2020-01-03    88.601997\n",
       "2020-01-06    90.307999\n",
       "2020-01-07    93.811996\n",
       "Name: Close, dtype: float64"
      ]
     },
     "execution_count": 18,
     "metadata": {},
     "output_type": "execute_result"
    }
   ],
   "source": [
    "# Actual close price\n",
    "actual_close = tickers['Close']\n",
    "\n",
    "actual_close.head()"
   ]
  },
  {
   "cell_type": "code",
   "execution_count": 19,
   "id": "50074802-3ee9-4367-ab26-5139df8dc813",
   "metadata": {},
   "outputs": [
    {
     "name": "stdout",
     "output_type": "stream",
     "text": [
      "Head\n"
     ]
    },
    {
     "data": {
      "text/html": [
       "<div>\n",
       "<style scoped>\n",
       "    .dataframe tbody tr th:only-of-type {\n",
       "        vertical-align: middle;\n",
       "    }\n",
       "\n",
       "    .dataframe tbody tr th {\n",
       "        vertical-align: top;\n",
       "    }\n",
       "\n",
       "    .dataframe thead th {\n",
       "        text-align: right;\n",
       "    }\n",
       "</style>\n",
       "<table border=\"1\" class=\"dataframe\">\n",
       "  <thead>\n",
       "    <tr style=\"text-align: right;\">\n",
       "      <th></th>\n",
       "      <th>0</th>\n",
       "    </tr>\n",
       "  </thead>\n",
       "  <tbody>\n",
       "    <tr>\n",
       "      <th>2019-12-31 00:00:00</th>\n",
       "      <td>83.666000</td>\n",
       "    </tr>\n",
       "    <tr>\n",
       "      <th>2020-01-02 00:00:00</th>\n",
       "      <td>86.052002</td>\n",
       "    </tr>\n",
       "    <tr>\n",
       "      <th>2020-01-03 00:00:00</th>\n",
       "      <td>88.601997</td>\n",
       "    </tr>\n",
       "    <tr>\n",
       "      <th>2020-01-06 00:00:00</th>\n",
       "      <td>90.307999</td>\n",
       "    </tr>\n",
       "    <tr>\n",
       "      <th>2020-01-07 00:00:00</th>\n",
       "      <td>93.811996</td>\n",
       "    </tr>\n",
       "  </tbody>\n",
       "</table>\n",
       "</div>"
      ],
      "text/plain": [
       "                             0\n",
       "2019-12-31 00:00:00  83.666000\n",
       "2020-01-02 00:00:00  86.052002\n",
       "2020-01-03 00:00:00  88.601997\n",
       "2020-01-06 00:00:00  90.307999\n",
       "2020-01-07 00:00:00  93.811996"
      ]
     },
     "metadata": {},
     "output_type": "display_data"
    },
    {
     "name": "stdout",
     "output_type": "stream",
     "text": [
      "\n",
      "Tail\n"
     ]
    },
    {
     "data": {
      "text/html": [
       "<div>\n",
       "<style scoped>\n",
       "    .dataframe tbody tr th:only-of-type {\n",
       "        vertical-align: middle;\n",
       "    }\n",
       "\n",
       "    .dataframe tbody tr th {\n",
       "        vertical-align: top;\n",
       "    }\n",
       "\n",
       "    .dataframe thead th {\n",
       "        text-align: right;\n",
       "    }\n",
       "</style>\n",
       "<table border=\"1\" class=\"dataframe\">\n",
       "  <thead>\n",
       "    <tr style=\"text-align: right;\">\n",
       "      <th></th>\n",
       "      <th>0</th>\n",
       "    </tr>\n",
       "  </thead>\n",
       "  <tbody>\n",
       "    <tr>\n",
       "      <th>0</th>\n",
       "      <td>730.096459</td>\n",
       "    </tr>\n",
       "    <tr>\n",
       "      <th>1</th>\n",
       "      <td>732.147310</td>\n",
       "    </tr>\n",
       "    <tr>\n",
       "      <th>2</th>\n",
       "      <td>734.965125</td>\n",
       "    </tr>\n",
       "    <tr>\n",
       "      <th>3</th>\n",
       "      <td>736.513168</td>\n",
       "    </tr>\n",
       "    <tr>\n",
       "      <th>4</th>\n",
       "      <td>738.056788</td>\n",
       "    </tr>\n",
       "  </tbody>\n",
       "</table>\n",
       "</div>"
      ],
      "text/plain": [
       "            0\n",
       "0  730.096459\n",
       "1  732.147310\n",
       "2  734.965125\n",
       "3  736.513168\n",
       "4  738.056788"
      ]
     },
     "metadata": {},
     "output_type": "display_data"
    }
   ],
   "source": [
    "# Concat data\n",
    "prev_predit_df = pd.concat([actual_close, predicted_df],\n",
    "                           axis=0)\n",
    "\n",
    "print(\"Head\")\n",
    "display(prev_predit_df.head())\n",
    "print()\n",
    "print(\"Tail\")\n",
    "display(prev_predit_df.tail())"
   ]
  },
  {
   "cell_type": "code",
   "execution_count": 20,
   "id": "b4f9fe0c-8f2b-414e-9fe7-009850344b0d",
   "metadata": {},
   "outputs": [
    {
     "data": {
      "text/html": [
       "<div>\n",
       "<style scoped>\n",
       "    .dataframe tbody tr th:only-of-type {\n",
       "        vertical-align: middle;\n",
       "    }\n",
       "\n",
       "    .dataframe tbody tr th {\n",
       "        vertical-align: top;\n",
       "    }\n",
       "\n",
       "    .dataframe thead th {\n",
       "        text-align: right;\n",
       "    }\n",
       "</style>\n",
       "<table border=\"1\" class=\"dataframe\">\n",
       "  <thead>\n",
       "    <tr style=\"text-align: right;\">\n",
       "      <th></th>\n",
       "      <th>Close</th>\n",
       "    </tr>\n",
       "    <tr>\n",
       "      <th>Date</th>\n",
       "      <th></th>\n",
       "    </tr>\n",
       "  </thead>\n",
       "  <tbody>\n",
       "    <tr>\n",
       "      <th>2019-12-31 00:00:00</th>\n",
       "      <td>83.666000</td>\n",
       "    </tr>\n",
       "    <tr>\n",
       "      <th>2020-01-02 00:00:00</th>\n",
       "      <td>86.052002</td>\n",
       "    </tr>\n",
       "    <tr>\n",
       "      <th>2020-01-03 00:00:00</th>\n",
       "      <td>88.601997</td>\n",
       "    </tr>\n",
       "    <tr>\n",
       "      <th>2020-01-06 00:00:00</th>\n",
       "      <td>90.307999</td>\n",
       "    </tr>\n",
       "    <tr>\n",
       "      <th>2020-01-07 00:00:00</th>\n",
       "      <td>93.811996</td>\n",
       "    </tr>\n",
       "  </tbody>\n",
       "</table>\n",
       "</div>"
      ],
      "text/plain": [
       "                         Close\n",
       "Date                          \n",
       "2019-12-31 00:00:00  83.666000\n",
       "2020-01-02 00:00:00  86.052002\n",
       "2020-01-03 00:00:00  88.601997\n",
       "2020-01-06 00:00:00  90.307999\n",
       "2020-01-07 00:00:00  93.811996"
      ]
     },
     "execution_count": 20,
     "metadata": {},
     "output_type": "execute_result"
    }
   ],
   "source": [
    "# Rename col header\n",
    "prev_predit_df.rename(columns={0: \"Close\"}, inplace=True)\n",
    "\n",
    "# Rename index\n",
    "prev_predit_df.index.names=[\"Date\"]\n",
    "\n",
    "# Display final df\n",
    "prev_predit_df.head()"
   ]
  },
  {
   "cell_type": "markdown",
   "id": "33c7bfb4-9e9c-41e3-973f-b35850c08924",
   "metadata": {},
   "source": [
    "##"
   ]
  },
  {
   "cell_type": "markdown",
   "id": "d599e678-974f-4786-bb5c-f42a45ff1a64",
   "metadata": {},
   "source": [
    "##"
   ]
  },
  {
   "cell_type": "markdown",
   "id": "3c5e4d15-ec65-4982-bd80-0d733208685f",
   "metadata": {},
   "source": [
    "# Prep for MACD "
   ]
  },
  {
   "cell_type": "code",
   "execution_count": 21,
   "id": "a9856ade-0b2a-42a5-8571-0dbae3bececb",
   "metadata": {},
   "outputs": [
    {
     "data": {
      "text/html": [
       "<div>\n",
       "<style scoped>\n",
       "    .dataframe tbody tr th:only-of-type {\n",
       "        vertical-align: middle;\n",
       "    }\n",
       "\n",
       "    .dataframe tbody tr th {\n",
       "        vertical-align: top;\n",
       "    }\n",
       "\n",
       "    .dataframe thead th {\n",
       "        text-align: right;\n",
       "    }\n",
       "</style>\n",
       "<table border=\"1\" class=\"dataframe\">\n",
       "  <thead>\n",
       "    <tr style=\"text-align: right;\">\n",
       "      <th></th>\n",
       "      <th>Close</th>\n",
       "    </tr>\n",
       "  </thead>\n",
       "  <tbody>\n",
       "    <tr>\n",
       "      <th>0</th>\n",
       "      <td>83.666000</td>\n",
       "    </tr>\n",
       "    <tr>\n",
       "      <th>1</th>\n",
       "      <td>86.052002</td>\n",
       "    </tr>\n",
       "    <tr>\n",
       "      <th>2</th>\n",
       "      <td>88.601997</td>\n",
       "    </tr>\n",
       "    <tr>\n",
       "      <th>3</th>\n",
       "      <td>90.307999</td>\n",
       "    </tr>\n",
       "    <tr>\n",
       "      <th>4</th>\n",
       "      <td>93.811996</td>\n",
       "    </tr>\n",
       "  </tbody>\n",
       "</table>\n",
       "</div>"
      ],
      "text/plain": [
       "       Close\n",
       "0  83.666000\n",
       "1  86.052002\n",
       "2  88.601997\n",
       "3  90.307999\n",
       "4  93.811996"
      ]
     },
     "execution_count": 21,
     "metadata": {},
     "output_type": "execute_result"
    }
   ],
   "source": [
    "tickers_df = prev_predit_df.copy()\n",
    "\n",
    "tickers_df.reset_index(drop=True, \n",
    "                       inplace=True)\n",
    "\n",
    "tickers_df.head()"
   ]
  },
  {
   "cell_type": "markdown",
   "id": "2bd29e1e-d12d-4abf-afa5-d0ff335f838a",
   "metadata": {},
   "source": [
    "##"
   ]
  },
  {
   "cell_type": "markdown",
   "id": "2df1b8d8-335e-4e49-9b60-c364788a4692",
   "metadata": {},
   "source": [
    "## MACD calcualtion and plots"
   ]
  },
  {
   "cell_type": "code",
   "execution_count": 22,
   "id": "218eb1ce-6630-4985-83c0-7e3cc84758e5",
   "metadata": {},
   "outputs": [],
   "source": [
    "# Calculate MACD data and add to dictionary\n",
    "macd_list = {}\n",
    "\n",
    "for ticker in stock_name:\n",
    "    \n",
    "    # MACD data\n",
    "    ewm_fast = tickers_df[\"Close\"].ewm(span = 12, adjust = False).mean()\n",
    "    \n",
    "    ewm_slow = tickers_df[\"Close\"].ewm(span = 26, adjust = False).mean()\n",
    "    \n",
    "    macd = pd.DataFrame(ewm_fast - ewm_slow)\n",
    "    \n",
    "    macd = macd.rename(columns = {\"Close\":\"macd\"})\n",
    "    \n",
    "    # Signal data\n",
    "    signal = pd.DataFrame(macd[\"macd\"].ewm(span = 9, adjust = False).mean()).rename(columns = {\"macd\":\"signal\"})\n",
    "    \n",
    "    # Histogram data\n",
    "    histogram = pd.DataFrame(macd[\"macd\"] - signal[\"signal\"]).rename(columns = {0:(\"hist\")})\n",
    "    \n",
    "    ticker_macd = pd.concat([macd, signal, histogram],\n",
    "                            axis = 1)\n",
    "    \n",
    "    macd_list[ticker] = ticker_macd"
   ]
  },
  {
   "cell_type": "code",
   "execution_count": 23,
   "id": "b378ed1b-96dc-484c-9836-5aa2a108d7ed",
   "metadata": {},
   "outputs": [
    {
     "data": {
      "image/png": "[encoded data removed]",
      "text/plain": [
       "<Figure size 1296x864 with 2 Axes>"
      ]
     },
     "metadata": {
      "needs_background": "light"
     },
     "output_type": "display_data"
    }
   ],
   "source": [
    "# Plot MACD data per individual stock\n",
    "for ticker in stock_name:  \n",
    "    \n",
    "    plt.rcParams[\"figure.figsize\"] = [18,12]\n",
    "    \n",
    "    ax1 = plt.subplot2grid((15,1), (0,0), rowspan = 5, colspan = 5)\n",
    "    \n",
    "    ax2 = plt.subplot2grid((15,1), (7,0), rowspan = 3, colspan = 5)\n",
    "\n",
    "    ax1.plot(tickers_df[\"Close\"], color = 'gray', linewidth = 2, label = ticker)\n",
    "    \n",
    "    ax1.set_title(f'{ticker} MACD SIGNALS')\n",
    "    \n",
    "    ax2.plot(macd_list[ticker]['macd'],\n",
    "             color = 'skyblue',\n",
    "             linewidth = 1.5, \n",
    "             label = 'MACD')\n",
    "    \n",
    "    ax2.plot(macd_list[ticker]['signal'],\n",
    "             color = 'orange',\n",
    "             linewidth = 1.5,\n",
    "             label = 'SIGNAL')\n",
    "\n",
    "    for i in range(len(macd_list[ticker])):\n",
    "        \n",
    "        if str(macd_list[ticker]['hist'][i])[0] == '-':\n",
    "            \n",
    "            ax2.bar(macd_list[ticker].index[i], \n",
    "                    macd_list[ticker]['hist'][i],\n",
    "                    color = 'red')\n",
    "        else:\n",
    "            \n",
    "            ax2.bar(macd_list[ticker].index[i], \n",
    "                    macd_list[ticker]['hist'][i], \n",
    "                    color = 'green')\n",
    "    \n",
    "    plt.legend(loc = 'lower right')\n",
    "    plt.savefig(f\"MACD.png\", bbox_inches='tight', facecolor='white')\n",
    "    #plt.show()\n"
   ]
  },
  {
   "cell_type": "markdown",
   "id": "4abb8a45-af7b-45c6-bb42-5d2ef4ca16df",
   "metadata": {},
   "source": [
    "##"
   ]
  },
  {
   "cell_type": "markdown",
   "id": "21f2d7e1-8a47-4bdc-bf8a-fabe5d48ef91",
   "metadata": {},
   "source": [
    "# Trading Strategy based on MACD"
   ]
  },
  {
   "cell_type": "code",
   "execution_count": 24,
   "id": "7976aafa-29fd-4bdf-802e-a49262bb4922",
   "metadata": {},
   "outputs": [],
   "source": [
    "# Create Trading Strategy function\n",
    "def implement_macd_strategy(prices, data):    \n",
    "    buy_price = []\n",
    "    sell_price = []\n",
    "    macd_signal = []\n",
    "    signal = 0\n",
    "\n",
    "    # For loop for range of dates\n",
    "    for i in range(len(data)):\n",
    "        \n",
    "        # Conditional produce signal to buy stock\n",
    "        if data['macd'][i] > data['signal'][i]:\n",
    "            if signal != 1:\n",
    "                buy_price.append(prices[i])\n",
    "                sell_price.append(np.nan)\n",
    "                signal = 1\n",
    "                macd_signal.append(signal)\n",
    "            else:\n",
    "                buy_price.append(np.nan)\n",
    "                sell_price.append(np.nan)\n",
    "                macd_signal.append(0)\n",
    "                \n",
    "        # Conditional produce signal to sell stock\n",
    "        elif data['macd'][i] < data['signal'][i]:\n",
    "            if signal != -1:\n",
    "                buy_price.append(np.nan)\n",
    "                sell_price.append(prices[i])\n",
    "                signal = -1\n",
    "                macd_signal.append(signal)\n",
    "            else:\n",
    "                buy_price.append(np.nan)\n",
    "                sell_price.append(np.nan)\n",
    "                macd_signal.append(0)\n",
    "        else:\n",
    "            buy_price.append(np.nan)\n",
    "            sell_price.append(np.nan)\n",
    "            macd_signal.append(0)\n",
    "            \n",
    "    return buy_price, sell_price, macd_signal"
   ]
  },
  {
   "cell_type": "code",
   "execution_count": 25,
   "id": "c5d1e012-96f7-4d7e-bf1b-59c81410dc5d",
   "metadata": {},
   "outputs": [
    {
     "data": {
      "image/png": "[encoded data removed]",
      "text/plain": [
       "<Figure size 1296x864 with 2 Axes>"
      ]
     },
     "metadata": {
      "needs_background": "light"
     },
     "output_type": "display_data"
    }
   ],
   "source": [
    "# Run trade strategy and plot buy and sell signals\n",
    "for ticker in stock_name:  \n",
    "    \n",
    "    buy_price, sell_price, macd_signal = implement_macd_strategy(tickers_df[\"Close\"], macd_list[ticker])\n",
    "    \n",
    "    plt.rcParams[\"figure.figsize\"] = [18,12]\n",
    "\n",
    "    ax1 = plt.subplot2grid((15,1), (0,0), rowspan = 5, colspan = 1)\n",
    "    \n",
    "    ax2 = plt.subplot2grid((15,1), (7,0), rowspan = 3, colspan = 1)\n",
    "\n",
    "    ax1.plot(tickers_df[\"Close\"], \n",
    "             color = 'gray',\n",
    "             linewidth = 2,\n",
    "             label = ticker)\n",
    "    \n",
    "    ax1.plot(tickers_df[\"Close\"].index,\n",
    "             buy_price, \n",
    "             marker = '^',\n",
    "             color = 'green', \n",
    "             markersize = 10, \n",
    "             label = 'BUY SIGNAL',\n",
    "             linewidth = 0)\n",
    "    \n",
    "    ax1.plot(tickers_df[\"Close\"].index,\n",
    "             sell_price, \n",
    "             marker = 'v', \n",
    "             color = 'r',\n",
    "             markersize = 10,\n",
    "             label = 'SELL SIGNAL',\n",
    "             linewidth = 0)\n",
    "    \n",
    "    ax1.legend()\n",
    "    \n",
    "    ax1.set_title(f'{ticker} MACD SIGNALS')\n",
    "    \n",
    "    ax2.plot(macd_list[ticker]['macd'],\n",
    "             color = 'skyblue',\n",
    "             linewidth = 1.5, \n",
    "             label = 'MACD')\n",
    "    \n",
    "    ax2.plot(macd_list[ticker]['signal'], \n",
    "             color = 'orange', \n",
    "             linewidth = 1.5,\n",
    "             label = 'SIGNAL')\n",
    "\n",
    "    for i in range(len(macd_list[ticker])):\n",
    "        \n",
    "        if str(macd_list[ticker]['hist'][i])[0] == '-':\n",
    "            \n",
    "            ax2.bar(macd_list[ticker].index[i],\n",
    "                    macd_list[ticker]['hist'][i], \n",
    "                    color = 'r')\n",
    "        else:\n",
    "            \n",
    "            ax2.bar(macd_list[ticker].index[i],\n",
    "                    macd_list[ticker]['hist'][i], \n",
    "                    color = 'g')\n",
    "        \n",
    "    plt.legend(loc = 'lower right')\n",
    "    plt.savefig(f\"TradeSignal.png\", bbox_inches='tight', facecolor='white')    \n",
    "    plt.show()"
   ]
  },
  {
   "cell_type": "code",
   "execution_count": 26,
   "id": "46346cbd-da0c-4c86-a46e-ceaac048c65e",
   "metadata": {},
   "outputs": [],
   "source": [
    "# Run strategy to create position\n",
    "stock_strategy = {}\n",
    "\n",
    "for ticker in stock_name:     \n",
    "    \n",
    "    buy_price, sell_price, macd_signal = implement_macd_strategy(tickers_df[\"Close\"], macd_list[ticker])\n",
    "\n",
    "    position = []\n",
    "    \n",
    "    for i in range(len(macd_signal)):        \n",
    "        if macd_signal[i] > 1:\n",
    "            position.append(0)\n",
    "        else:\n",
    "            position.append(1)\n",
    "            \n",
    "    for i in range(len(tickers_df['Close'])):\n",
    "        if macd_signal[i] == 1:\n",
    "            position[i] = 1\n",
    "        elif macd_signal[i] == -1:\n",
    "            position[i] = 0\n",
    "        else:\n",
    "            position[i] = position[i-1]\n",
    "            \n",
    "    macd = macd_list[ticker]['macd']\n",
    "    \n",
    "    signal = macd_list[ticker]['signal']\n",
    "    \n",
    "    close_price = tickers_df[\"Close\"]\n",
    "    \n",
    "    macd_signal = pd.DataFrame(macd_signal).rename(columns = {0:'macd_signal'}).set_index(tickers_df[\"Close\"].index)\n",
    "    \n",
    "    position = pd.DataFrame(position).rename(columns = {0:'macd_position'}).set_index(tickers_df[\"Close\"].index)\n",
    "\n",
    "    frames = [close_price, macd, signal, macd_signal, position]\n",
    "    \n",
    "    stock_strategy = pd.concat(frames, \n",
    "                               join = 'inner',\n",
    "                               axis = 1)"
   ]
  },
  {
   "cell_type": "code",
   "execution_count": 27,
   "id": "7a187357-1c60-4fe5-b848-7180c793c76f",
   "metadata": {},
   "outputs": [
    {
     "data": {
      "text/html": [
       "<div>\n",
       "<style scoped>\n",
       "    .dataframe tbody tr th:only-of-type {\n",
       "        vertical-align: middle;\n",
       "    }\n",
       "\n",
       "    .dataframe tbody tr th {\n",
       "        vertical-align: top;\n",
       "    }\n",
       "\n",
       "    .dataframe thead th {\n",
       "        text-align: right;\n",
       "    }\n",
       "</style>\n",
       "<table border=\"1\" class=\"dataframe\">\n",
       "  <thead>\n",
       "    <tr style=\"text-align: right;\">\n",
       "      <th></th>\n",
       "      <th>Close</th>\n",
       "      <th>macd</th>\n",
       "      <th>signal</th>\n",
       "      <th>macd_signal</th>\n",
       "      <th>macd_position</th>\n",
       "    </tr>\n",
       "  </thead>\n",
       "  <tbody>\n",
       "    <tr>\n",
       "      <th>0</th>\n",
       "      <td>83.666000</td>\n",
       "      <td>0.000000</td>\n",
       "      <td>0.000000</td>\n",
       "      <td>0</td>\n",
       "      <td>1</td>\n",
       "    </tr>\n",
       "    <tr>\n",
       "      <th>1</th>\n",
       "      <td>86.052002</td>\n",
       "      <td>0.190336</td>\n",
       "      <td>0.038067</td>\n",
       "      <td>1</td>\n",
       "      <td>1</td>\n",
       "    </tr>\n",
       "    <tr>\n",
       "      <th>2</th>\n",
       "      <td>88.601997</td>\n",
       "      <td>0.540710</td>\n",
       "      <td>0.138596</td>\n",
       "      <td>0</td>\n",
       "      <td>1</td>\n",
       "    </tr>\n",
       "    <tr>\n",
       "      <th>3</th>\n",
       "      <td>90.307999</td>\n",
       "      <td>0.945148</td>\n",
       "      <td>0.299906</td>\n",
       "      <td>0</td>\n",
       "      <td>1</td>\n",
       "    </tr>\n",
       "    <tr>\n",
       "      <th>4</th>\n",
       "      <td>93.811996</td>\n",
       "      <td>1.530766</td>\n",
       "      <td>0.546078</td>\n",
       "      <td>0</td>\n",
       "      <td>1</td>\n",
       "    </tr>\n",
       "    <tr>\n",
       "      <th>...</th>\n",
       "      <td>...</td>\n",
       "      <td>...</td>\n",
       "      <td>...</td>\n",
       "      <td>...</td>\n",
       "      <td>...</td>\n",
       "    </tr>\n",
       "    <tr>\n",
       "      <th>420</th>\n",
       "      <td>730.096459</td>\n",
       "      <td>11.685519</td>\n",
       "      <td>9.708226</td>\n",
       "      <td>0</td>\n",
       "      <td>1</td>\n",
       "    </tr>\n",
       "    <tr>\n",
       "      <th>421</th>\n",
       "      <td>732.147310</td>\n",
       "      <td>12.701455</td>\n",
       "      <td>10.306872</td>\n",
       "      <td>0</td>\n",
       "      <td>1</td>\n",
       "    </tr>\n",
       "    <tr>\n",
       "      <th>422</th>\n",
       "      <td>734.965125</td>\n",
       "      <td>13.577454</td>\n",
       "      <td>10.960988</td>\n",
       "      <td>0</td>\n",
       "      <td>1</td>\n",
       "    </tr>\n",
       "    <tr>\n",
       "      <th>423</th>\n",
       "      <td>736.513168</td>\n",
       "      <td>14.232540</td>\n",
       "      <td>11.615299</td>\n",
       "      <td>0</td>\n",
       "      <td>1</td>\n",
       "    </tr>\n",
       "    <tr>\n",
       "      <th>424</th>\n",
       "      <td>738.056788</td>\n",
       "      <td>14.706728</td>\n",
       "      <td>12.233584</td>\n",
       "      <td>0</td>\n",
       "      <td>1</td>\n",
       "    </tr>\n",
       "  </tbody>\n",
       "</table>\n",
       "<p>425 rows × 5 columns</p>\n",
       "</div>"
      ],
      "text/plain": [
       "          Close       macd     signal  macd_signal  macd_position\n",
       "0     83.666000   0.000000   0.000000            0              1\n",
       "1     86.052002   0.190336   0.038067            1              1\n",
       "2     88.601997   0.540710   0.138596            0              1\n",
       "3     90.307999   0.945148   0.299906            0              1\n",
       "4     93.811996   1.530766   0.546078            0              1\n",
       "..          ...        ...        ...          ...            ...\n",
       "420  730.096459  11.685519   9.708226            0              1\n",
       "421  732.147310  12.701455  10.306872            0              1\n",
       "422  734.965125  13.577454  10.960988            0              1\n",
       "423  736.513168  14.232540  11.615299            0              1\n",
       "424  738.056788  14.706728  12.233584            0              1\n",
       "\n",
       "[425 rows x 5 columns]"
      ]
     },
     "execution_count": 27,
     "metadata": {},
     "output_type": "execute_result"
    }
   ],
   "source": [
    "# Check strategy df\n",
    "stock_strategy"
   ]
  },
  {
   "cell_type": "markdown",
   "id": "55391319-d37f-49f9-9e7d-11760ad85ab1",
   "metadata": {},
   "source": [
    "##"
   ]
  },
  {
   "cell_type": "markdown",
   "id": "77ca0c33-b940-49f9-8227-5200a978ac78",
   "metadata": {},
   "source": [
    "# Backtesting"
   ]
  },
  {
   "cell_type": "code",
   "execution_count": 28,
   "id": "0588e2f7-6b04-4629-8543-39b2d415a7c2",
   "metadata": {},
   "outputs": [],
   "source": [
    "# Create dictionary and populate according to macd_signal\n",
    "stock_signals = {}\n",
    "\n",
    "for ticker in tickers:\n",
    "    entries = []\n",
    "    exits = []\n",
    "    \n",
    "    for sig in stock_strategy[\"macd_signal\"]:\n",
    "        \n",
    "        if sig == -1:\n",
    "            entries.append(\"False\")\n",
    "            exits.append(\"True\")\n",
    "        elif sig == 1:\n",
    "            entries.append(\"True\")\n",
    "            exits.append(\"False\")\n",
    "        else:\n",
    "            entries.append(\"False\")\n",
    "            exits.append(\"False\")\n",
    "            \n",
    "    entries = pd.Series(entries,\n",
    "                        index = tickers_df[\"Close\"].index)\n",
    "    \n",
    "    exits = pd.Series(exits, index = tickers_df[\"Close\"].index)\n",
    "    \n",
    "    # Change type to bool\n",
    "    entries = entries == \"True\"\n",
    "    exits = exits == \"True\"\n",
    "    \n",
    "    # Create dataframe\n",
    "    entries = pd.DataFrame(entries).rename(columns = {0:'entries'}).set_index(tickers_df[\"Close\"].index)\n",
    "    \n",
    "    exits = pd.DataFrame(exits).rename(columns = {0:'exits'}).set_index(tickers_df[\"Close\"].index)\n",
    "    \n",
    "    close_price = tickers_df[\"Close\"]\n",
    "    \n",
    "    frames = [close_price,\n",
    "              entries, \n",
    "              exits]\n",
    "    \n",
    "    signals = pd.concat(frames, join = 'inner', axis = 1)\n",
    "\n",
    "    stock_signals[ticker] = signals"
   ]
  },
  {
   "cell_type": "code",
   "execution_count": 29,
   "id": "9cce9451-f480-4bde-9469-04e1dc836b99",
   "metadata": {},
   "outputs": [
    {
     "name": "stdout",
     "output_type": "stream",
     "text": [
      "The total profit of just holding the stock is $1737.12\n"
     ]
    }
   ],
   "source": [
    "# Initial investment\n",
    "init_cash = 100000\n",
    "\n",
    "# Total profit earned from holding stock. Timeframe 3 months\n",
    "for ticker in stock_name:\n",
    "    \n",
    "    price = vbt.YFData.download(ticker, period='6mo').get('Close')\n",
    "    \n",
    "    portfolio = vbt.Portfolio.from_holding(price,\n",
    "                                           init_cash = init_cash)\n",
    "    \n",
    "portfolio.total_profit() \n",
    "\n",
    "print(f\"The total profit of just holding the stock is ${portfolio.total_profit():.2f}\")"
   ]
  },
  {
   "cell_type": "code",
   "execution_count": 30,
   "id": "5adfa5e4-3f8d-48c0-a51b-bafd2aa6863c",
   "metadata": {},
   "outputs": [
    {
     "name": "stdout",
     "output_type": "stream",
     "text": [
      "The total profit of exercising MACD signals are $3147409.80\n"
     ]
    }
   ],
   "source": [
    "total_profit = []\n",
    "\n",
    "for ticker in tickers:\n",
    "    # Build portfolio using macd signals\n",
    "    portfolio = vbt.Portfolio.from_signals(stock_signals[ticker][\"Close\"],\n",
    "                                           stock_signals[ticker][\"entries\"],\n",
    "                                           stock_signals[ticker][\"exits\"],\n",
    "                                           init_cash = init_cash)\n",
    "\n",
    "    # Total profit\n",
    "    total_profit.append(portfolio.total_profit())\n",
    "    \n",
    "print(f\"The total profit of exercising MACD signals are ${sum(total_profit):.2f}\")"
   ]
  }
 ],
 "metadata": {
  "kernelspec": {
   "display_name": "Python 3",
   "language": "python",
   "name": "python3"
  },
  "language_info": {
   "codemirror_mode": {
    "name": "ipython",
    "version": 3
   },
   "file_extension": ".py",
   "mimetype": "text/x-python",
   "name": "python",
   "nbconvert_exporter": "python",
   "pygments_lexer": "ipython3",
   "version": "3.7.10"
  }
 },
 "nbformat": 4,
 "nbformat_minor": 5
}
